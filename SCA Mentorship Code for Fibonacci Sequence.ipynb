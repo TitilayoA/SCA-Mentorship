{
 "cells": [
  {
   "cell_type": "markdown",
   "metadata": {},
   "source": [
    "## Python code for generating a Fibonacci sequence\n",
    "#### This notobook cover 3 different methods that can be used to generate a Fibonacci Sequence"
   ]
  },
  {
   "cell_type": "code",
   "execution_count": 1,
   "metadata": {},
   "outputs": [
    {
     "name": "stdout",
     "output_type": "stream",
     "text": [
      "0\n",
      "1\n",
      "1\n",
      "2\n",
      "3\n",
      "5\n",
      "8\n",
      "13\n",
      "21\n",
      "34\n"
     ]
    }
   ],
   "source": [
    "#Method 1\n",
    "#We started by creating a function that will house the sequence\n",
    "def F(n):\n",
    "    a,b = 0,1 #Assign 0 to a variable 'a' and  1 to variable b which will be 1st and 2nd number number in the sequence\n",
    "    for i in range(n):\n",
    "        print(a) #using the print keyword to return variable \"a\" as the first number in the output\n",
    "        a,b = b, a+b #this is the fibonacci generator expression\n",
    "i = F(10)"
   ]
  },
  {
   "cell_type": "code",
   "execution_count": 2,
   "metadata": {},
   "outputs": [],
   "source": [
    "#Method 2, this is quite similar to Method 1, but uses the yield keyword\n",
    "def F_ab(n):\n",
    "    a,b = 0,1\n",
    "    for i in range(n):\n",
    "        yield a #using the yield keyword as the generator function\n",
    "        c=a+b #assigning into a variable\n",
    "        a,b = b, c #this is the fibonacci generator expression"
   ]
  },
  {
   "cell_type": "code",
   "execution_count": 3,
   "metadata": {},
   "outputs": [
    {
     "name": "stdout",
     "output_type": "stream",
     "text": [
      "0\n",
      "1\n",
      "1\n",
      "2\n",
      "3\n",
      "5\n",
      "8\n",
      "13\n",
      "21\n",
      "34\n"
     ]
    }
   ],
   "source": [
    "for i in F_ab(10): #A command line to print the first 10 numbers in the fibonacci sequence\n",
    "    print(i)"
   ]
  },
  {
   "cell_type": "code",
   "execution_count": 4,
   "metadata": {},
   "outputs": [
    {
     "data": {
      "text/plain": [
       "[0, 1, 1, 2, 3, 5, 8, 13, 21, 34]"
      ]
     },
     "execution_count": 4,
     "metadata": {},
     "output_type": "execute_result"
    }
   ],
   "source": [
    "#putting the sequence in a list\n",
    "list(F_ab(10))"
   ]
  },
  {
   "cell_type": "code",
   "execution_count": 1,
   "metadata": {},
   "outputs": [
    {
     "name": "stdout",
     "output_type": "stream",
     "text": [
      "How many numbers would you like to display 8\n",
      "0\n",
      "1\n",
      "1\n",
      "2\n",
      "3\n",
      "5\n",
      "8\n",
      "13\n"
     ]
    }
   ],
   "source": [
    "# Method 3 \n",
    "#This is a user friendly method that include a prompt which allows the user determine the amount of number to be generated\n",
    "#We started by creating a function that will house the sequence\n",
    "def Fibonacci_function(n):\n",
    "    d = [] \n",
    "    a,b = 0,1\n",
    "    for i in range(n):\n",
    "        print(a)\n",
    "        c= a+b\n",
    "        a,b = b, c\n",
    "    return d\n",
    "d = int(input(\"How many numbers would you like to display \")) #prompt statement\n",
    "for i in Fibonacci_function(d):\n",
    "    print(i)"
   ]
  }
 ],
 "metadata": {
  "kernelspec": {
   "display_name": "Python 3",
   "language": "python",
   "name": "python3"
  },
  "language_info": {
   "codemirror_mode": {
    "name": "ipython",
    "version": 3
   },
   "file_extension": ".py",
   "mimetype": "text/x-python",
   "name": "python",
   "nbconvert_exporter": "python",
   "pygments_lexer": "ipython3",
   "version": "3.7.6"
  }
 },
 "nbformat": 4,
 "nbformat_minor": 4
}
